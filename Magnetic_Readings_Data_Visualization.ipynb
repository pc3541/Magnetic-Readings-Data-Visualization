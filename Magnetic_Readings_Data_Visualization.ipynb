{
 "cells": [
  {
   "cell_type": "code",
   "execution_count": 47,
   "metadata": {},
   "outputs": [
    {
     "name": "stdout",
     "output_type": "stream",
     "text": [
      "Upload .raw file:\n"
     ]
    },
    {
     "data": {
      "application/vnd.jupyter.widget-view+json": {
       "model_id": "452af2d9157142c09309ce5eaf6ff246",
       "version_major": 2,
       "version_minor": 0
      },
      "text/plain": [
       "FileUpload(value={}, accept='.raw', description='Upload')"
      ]
     },
     "metadata": {},
     "output_type": "display_data"
    },
    {
     "data": {
      "application/vnd.jupyter.widget-view+json": {
       "model_id": "7731fd29d59843c49b1ee11cf5de3c6d",
       "version_major": 2,
       "version_minor": 0
      },
      "text/plain": [
       "HBox(children=(BoundedIntText(value=10, layout=Layout(width='50px'), max=20), Label(value='Gradient threshold …"
      ]
     },
     "metadata": {},
     "output_type": "display_data"
    },
    {
     "data": {
      "application/vnd.jupyter.widget-view+json": {
       "model_id": "881b452220bc4573b289a7332ef3b2df",
       "version_major": 2,
       "version_minor": 0
      },
      "text/plain": [
       "HBox(children=(BoundedIntText(value=10, layout=Layout(width='50px'), max=10), Label(value='Gradient threshold …"
      ]
     },
     "metadata": {},
     "output_type": "display_data"
    },
    {
     "data": {
      "application/vnd.jupyter.widget-view+json": {
       "model_id": "df6ce52f57574b2eb5bb56f0eaaafd8d",
       "version_major": 2,
       "version_minor": 0
      },
      "text/plain": [
       "HBox(children=(BoundedIntText(value=10, layout=Layout(width='50px'), max=10), Label(value='Threshold for varia…"
      ]
     },
     "metadata": {},
     "output_type": "display_data"
    },
    {
     "data": {
      "application/vnd.jupyter.widget-view+json": {
       "model_id": "512867b947044b4ba8c84253625e638d",
       "version_major": 2,
       "version_minor": 0
      },
      "text/plain": [
       "Button(description='Run analysis', style=ButtonStyle())"
      ]
     },
     "metadata": {},
     "output_type": "display_data"
    },
    {
     "data": {
      "application/vnd.jupyter.widget-view+json": {
       "model_id": "b08ad12b17be4069a939dbf2791c40a3",
       "version_major": 2,
       "version_minor": 0
      },
      "text/plain": [
       "Output()"
      ]
     },
     "metadata": {},
     "output_type": "display_data"
    }
   ],
   "source": [
    "#Data extraction from .raw file and plot graphs\n",
    "\n",
    "import pandas as pd\n",
    "import numpy as np\n",
    "import matplotlib.pyplot as plt\n",
    "from scipy import stats\n",
    "from numpy_ext import rolling_apply\n",
    "import datetime\n",
    "import time\n",
    "import ipywidgets as widgets\n",
    "from ipywidgets import widgets, Layout\n",
    "from IPython.display import display, clear_output\n",
    "from matplotlib.pyplot import figure\n",
    "import voila\n",
    "import io\n",
    "\n",
    "print(\"Upload .raw file:\")\n",
    "uploader = widgets.FileUpload(accept='.raw', multiple=False)\n",
    "run_button = widgets.Button(description='Run analysis')\n",
    "gradient_numerator = widgets.BoundedIntText(\n",
    "    value=10,\n",
    "    min=0,\n",
    "    max=25,\n",
    "    step=1,\n",
    "    layout=Layout(width='50px'),\n",
    "    disabled=False\n",
    ")\n",
    "label1 = widgets.Label('Gradient threshold (_nT/__min), nT', layout=Layout(width='500px'))\n",
    "box1 = widgets.HBox([gradient_numerator, label1])\n",
    "gradient_denominator = widgets.BoundedIntText(\n",
    "    value=10,\n",
    "    min=0,\n",
    "    max=10,\n",
    "    step=1,\n",
    "    layout=Layout(width='50px'),\n",
    "    disabled=False\n",
    ")\n",
    "label2 = widgets.Label('Gradient threshold (_nT/__min), min', layout=Layout(width='500px'))\n",
    "box2 = widgets.HBox([gradient_denominator, label2])\n",
    "variation_from_chord = widgets.BoundedIntText(\n",
    "    value=10,\n",
    "    min=0,\n",
    "    max=10,\n",
    "    step=1,\n",
    "    layout=Layout(width='50px'),\n",
    "    disabled=False\n",
    ")\n",
    "label3 = widgets.Label('Threshold for variation from 600s chord (_nT)', layout=Layout(width='500px'))\n",
    "box3 = widgets.HBox([variation_from_chord, label3])\n",
    "display(uploader)\n",
    "out = widgets.Output()\n",
    "display(box1)\n",
    "display(box2)\n",
    "display(box3)\n",
    "display(run_button, out)\n",
    "\n",
    "def calc_slope(x):\n",
    "    slope = np.polyfit(range(len(x)), x, 1)[0]\n",
    "    slope = slope/6\n",
    "    return slope\n",
    "\n",
    "def getSec(s):\n",
    "    datee = datetime.datetime.strptime(s, \"%H%M%S\")\n",
    "    return datee.hour * 3600 + datee.minute * 60 + datee.second\n",
    "\n",
    "def run(_):\n",
    "    with out:\n",
    "        clear_output()\n",
    "        print(\"Working...\")\n",
    "        input_file = list(uploader.value.values())[0]\n",
    "        content = input_file['content']\n",
    "        content = io.StringIO(content.decode('utf-8'))\n",
    "        df = pd.read_csv(content, sep=\" \", header = None)\n",
    "        df = df.iloc[: , 4:]\n",
    "        df = df.fillna(0)\n",
    "        dataframe = df.astype(str) \n",
    "        dataframe = dataframe[~dataframe[5].str.contains(\"?\", regex=False)]\n",
    "        dataframe = dataframe.astype(float)\n",
    "        dataframe = dataframe.astype(int)\n",
    "        dataframe = dataframe.where(dataframe > 9999, np.nan)\n",
    "        dataframe_final = dataframe.apply(lambda x: pd.Series(x.dropna().to_numpy()), axis=1)\n",
    "        dataframe_final = dataframe_final.set_axis(dataframe.columns[:dataframe_final.shape[1]], axis=1).reindex(dataframe.columns, axis=1)\n",
    "        dataframe_final.dropna(axis=1, how='all', inplace = True)\n",
    "        dataframe_final[dataframe_final.columns[1]] = dataframe_final[dataframe_final.columns.values[1]]/10\n",
    "        dataframe_final.columns = [\"Time\", \"Magnetic_Readings\"]\n",
    "\n",
    "        dataframe_final[\"Time\"] = dataframe_final[\"Time\"].astype(str)\n",
    "        for i in range(len(dataframe_final)):\n",
    "            dataframe_final[\"Time\"].values[i] = dataframe_final[\"Time\"].values[i][:-2]\n",
    "            dataframe_final[\"Time\"].values[i] = getSec(dataframe_final[\"Time\"].values[i])\n",
    "\n",
    "        dataframe_final[\"Time\"] = dataframe_final[\"Time\"].astype(int)\n",
    "        df_time = pd.read_csv(\"https://raw.githubusercontent.com/pc3541/Magnetic-Readings-Data-Visualization/main/Time.csv\")\n",
    "        df_merged = pd.merge(df_time, dataframe_final, how='left')\n",
    "\n",
    "        dataframe_final[\"Gradients\"] = abs((dataframe_final[\"Magnetic_Readings\"].rolling(gradient_denominator.value*10).apply(calc_slope))*(gradient_denominator.value*60))\n",
    "        df_merged_slopes = pd.merge(df_merged, dataframe_final, how='left')\n",
    "        plt.figure(figsize=(20,4))\n",
    "        plt.scatter(df_merged_slopes[\"Time\"], df_merged_slopes[\"Gradients\"], 1, \"black\")\n",
    "        plt.xlabel(\"Time (sec)\")\n",
    "        plt.ylabel(\"Gradient (nT/\" + str(gradient_denominator.value) + \" min)\")\n",
    "        plt.title(\"Gradients vs. Time\")\n",
    "        plt.axhline(y=gradient_numerator.value, color='r', linestyle='-', label=(\"Threshold: \" + str(gradient_numerator.value) + \" nt/\" + str(gradient_denominator.value) + \" min\"))\n",
    "        plt.legend(loc = 'upper left')\n",
    "        plt.show()\n",
    "\n",
    "        dataframe_final[\"600s Chord\"] = abs(dataframe_final['Magnetic_Readings'].rolling(100, center=True).apply(lambda x: x.iloc[0]+x.iloc[-1]))/2\n",
    "        df_merged_chord = pd.merge(df_merged, dataframe_final, how=\"left\")\n",
    "        df_merged_chord[\"Variation From 600s Chord\"] = abs(df_merged_chord['Magnetic_Readings'] - df_merged_chord[\"600s Chord\"])\n",
    "        plt.figure(figsize=(20,4))\n",
    "        plt.scatter(df_merged_chord[\"Time\"], df_merged_chord[\"Variation From 600s Chord\"], 1, \"black\")\n",
    "        plt.xlabel(\"Time (sec)\")\n",
    "        plt.ylabel(\"Variation From 600s Chord (nT)\")\n",
    "        plt.title(\"Variation From 600s Chord vs. Time\")\n",
    "        plt.axhline(y=variation_from_chord.value, color='r', linestyle='-', label=(\"Threshold: \" + str(variation_from_chord.value) + \" nt\"))\n",
    "        plt.legend(loc = 'upper left')\n",
    "        plt.show()\n",
    "\n",
    "        aberrant = pd.DataFrame(columns=df_merged_chord.columns)\n",
    "        cond = df_merged_chord[\"Variation From 600s Chord\"] > variation_from_chord.value\n",
    "        rows = df_merged.loc[cond, :]\n",
    "        aberrant = pd.concat([aberrant, rows], ignore_index=True)\n",
    "        cond = df_merged_slopes[\"Gradients\"] > gradient_numerator.value\n",
    "        rows = df_merged.loc[cond, :]\n",
    "        aberrant = pd.concat([aberrant, rows], ignore_index=True)\n",
    "\n",
    "        if (df_merged_slopes[\"Gradients\"] > gradient_numerator.value).any() == True or (df_merged_chord[\"Variation From 600s Chord\"] > variation_from_chord.value).any() == True:\n",
    "            plt.figure(figsize=(20,4))\n",
    "            plt.scatter(df_merged[\"Time\"], df_merged[\"Magnetic_Readings\"], 1, \"black\", label=\"normal\")\n",
    "            plt.scatter(aberrant[\"Time\"], aberrant[\"Magnetic_Readings\"], 1, \"red\", label=\"aberrant\")\n",
    "            plt.xlabel(\"Time (sec)\")\n",
    "            plt.ylabel(\"Magnetic Readings (nT)\")\n",
    "            plt.title(\"Magnetic Readings vs. Time\")\n",
    "            plt.show()\n",
    "        else:\n",
    "            plt.figure(figsize=(20,4))\n",
    "            plt.scatter(df_merged[\"Time\"], df_merged[\"Magnetic_Readings\"], 1, \"black\")\n",
    "            plt.xlabel(\"Time (sec)\")\n",
    "            plt.ylabel(\"Magnetic Readings (nT)\")\n",
    "            plt.title(\"Magnetic Readings vs. Time\")\n",
    "            plt.show()\n",
    "\n",
    "run_button.on_click(run)"
   ]
  },
  {
   "cell_type": "code",
   "execution_count": null,
   "metadata": {},
   "outputs": [],
   "source": []
  }
 ],
 "metadata": {
  "kernelspec": {
   "display_name": "Python 3",
   "language": "python",
   "name": "python3"
  },
  "language_info": {
   "codemirror_mode": {
    "name": "ipython",
    "version": 3
   },
   "file_extension": ".py",
   "mimetype": "text/x-python",
   "name": "python",
   "nbconvert_exporter": "python",
   "pygments_lexer": "ipython3",
   "version": "3.8.5"
  }
 },
 "nbformat": 4,
 "nbformat_minor": 4
}
