{
 "cells": [
  {
   "cell_type": "code",
   "execution_count": 47,
   "metadata": {},
   "outputs": [
    {
     "data": {
      "application/vnd.jupyter.widget-view+json": {
       "model_id": "d9bfdbf4dbd5432f84f89fe6a259e567",
       "version_major": 2,
       "version_minor": 0
      },
      "text/plain": [
       "FileUpload(value={}, accept='.raw', description='Upload')"
      ]
     },
     "metadata": {},
     "output_type": "display_data"
    },
    {
     "data": {
      "application/vnd.jupyter.widget-view+json": {
       "model_id": "1a57e63dae7042cd9df6e40ce335da07",
       "version_major": 2,
       "version_minor": 0
      },
      "text/plain": [
       "Button(description='Run analysis', style=ButtonStyle())"
      ]
     },
     "metadata": {},
     "output_type": "display_data"
    },
    {
     "data": {
      "application/vnd.jupyter.widget-view+json": {
       "model_id": "89862c134a9e43c78bc31a7f23df1b8b",
       "version_major": 2,
       "version_minor": 0
      },
      "text/plain": [
       "Output()"
      ]
     },
     "metadata": {},
     "output_type": "display_data"
    }
   ],
   "source": [
    "#Data extraction from .raw file and plot graphs\n",
    "\n",
    "import pandas as pd\n",
    "import numpy as np\n",
    "import matplotlib.pyplot as plt\n",
    "from scipy import stats\n",
    "from numpy_ext import rolling_apply\n",
    "import datetime\n",
    "import time\n",
    "import ipywidgets as widgets\n",
    "from IPython.display import display, clear_output\n",
    "from matplotlib.pyplot import figure\n",
    "import voila\n",
    "import io\n",
    "\n",
    "w = widgets.IntSlider()\n",
    "uploader = widgets.FileUpload(accept='.raw', multiple=False)\n",
    "display(uploader)\n",
    "\n",
    "run_button = widgets.Button(description='Run analysis')\n",
    "out = widgets.Output()\n",
    "\n",
    "def calc_slope(x):\n",
    "    slope = np.polyfit(range(len(x)), x, 1)[0]\n",
    "    slope = slope/6\n",
    "    return slope\n",
    "\n",
    "def getSec(s):\n",
    "    datee = datetime.datetime.strptime(s, \"%H%M%S\")\n",
    "    return datee.hour * 3600 + datee.minute * 60 + datee.second\n",
    "\n",
    "def run(_):\n",
    "    with out:\n",
    "        print(\"Working...\")\n",
    "        print(\"\")\n",
    "        print(\"\")\n",
    "        print(\"\")\n",
    "        print(\"\")\n",
    "        input_file = list(uploader.value.values())[0]\n",
    "        content = input_file['content']\n",
    "        content = io.StringIO(content.decode('utf-8'))\n",
    "        df = pd.read_csv(content, sep=\" \", header = None)\n",
    "        df = df.iloc[: , 4:]\n",
    "        df = df.fillna(0)\n",
    "        dataframe = df.astype(str) \n",
    "        dataframe = dataframe[~dataframe[5].str.contains(\"?\", regex=False)]\n",
    "        dataframe = dataframe.astype(float)\n",
    "        dataframe = dataframe.astype(int)\n",
    "        dataframe = dataframe.where(dataframe > 9999, np.nan)\n",
    "        dataframe_final = dataframe.apply(lambda x: pd.Series(x.dropna().to_numpy()), axis=1)\n",
    "        dataframe_final = dataframe_final.set_axis(dataframe.columns[:dataframe_final.shape[1]], axis=1).reindex(dataframe.columns, axis=1)\n",
    "        dataframe_final.dropna(axis=1, how='all', inplace = True)\n",
    "        dataframe_final[dataframe_final.columns[1]] = dataframe_final[dataframe_final.columns.values[1]]/10\n",
    "        dataframe_final.columns = [\"Time\", \"Magnetic_Readings\"]\n",
    "\n",
    "        dataframe_final[\"Time\"] = dataframe_final[\"Time\"].astype(str)\n",
    "        for i in range(len(dataframe_final)):\n",
    "            dataframe_final[\"Time\"].values[i] = dataframe_final[\"Time\"].values[i][:-2]\n",
    "            dataframe_final[\"Time\"].values[i] = getSec(dataframe_final[\"Time\"].values[i])\n",
    "\n",
    "        dataframe_final[\"Time\"] = dataframe_final[\"Time\"].astype(int)\n",
    "        df_time = pd.read_csv(\"Desktop\\Time.csv\")\n",
    "        df_merged = pd.merge(df_time, dataframe_final, how='left')\n",
    "\n",
    "        dataframe_final[\"Gradients\"] = abs((dataframe_final[\"Magnetic_Readings\"].rolling(100, min_periods=100).apply(calc_slope))*600)\n",
    "        df_merged_slopes = pd.merge(df_merged, dataframe_final, how='left')\n",
    "        plt.figure(figsize=(24,6))\n",
    "        plt.scatter(df_merged_slopes[\"Time\"], df_merged_slopes[\"Gradients\"], 1, \"black\")\n",
    "        plt.xlabel(\"Time (sec)\")\n",
    "        plt.ylabel(\"Gradient (nT/10 min)\")\n",
    "        plt.title(\"Gradients vs. Time\")\n",
    "        plt.axhline(y=10, color='r', linestyle='-', label=\"Threshold: 10 nt/10 min\")\n",
    "        plt.legend(loc = 'upper left')\n",
    "        plt.show()\n",
    "        if (df_merged_slopes[\"Gradients\"] > 10).any() is True:\n",
    "            print(\"Gradient change > 10 nT/10 min found; must be re-flown.\")\n",
    "            print(\"\")\n",
    "            print(\"\")\n",
    "            print(\"\")\n",
    "            print(\"\")\n",
    "        else:\n",
    "            print(\"No aberrant gradients recorded.\")\n",
    "            print(\"\")\n",
    "            print(\"\")\n",
    "            print(\"\")\n",
    "            print(\"\")\n",
    "\n",
    "        df_merged[\"600s Moving Average\"] = df_merged['Magnetic_Readings'].rolling(600, min_periods=2).mean() #Troubleshoot so misconstrued means aren't calculated!\n",
    "        df_merged[\"Variation From 600s Moving Average\"] = abs(df_merged['Magnetic_Readings'] - df_merged[\"600s Moving Average\"])\n",
    "        plt.figure(figsize=(24,6))\n",
    "        plt.scatter(df_merged[\"Time\"], df_merged[\"Variation From 600s Moving Average\"], 1, \"black\")\n",
    "        plt.xlabel(\"Time (sec)\")\n",
    "        plt.ylabel(\"Variation From 600s Moving Average (nT)\")\n",
    "        plt.title(\"Variation From 600s Moving Average vs. Time\")\n",
    "        plt.axhline(y=10, color='r', linestyle='-', label=\"Threshold: 10 nt\")\n",
    "        plt.legend(loc = 'upper left')\n",
    "        plt.show()\n",
    "        if (df_merged[\"Variation From 600s Moving Average\"] > 10).any() is True:\n",
    "            print(\"Variation from 600s moving average > 10 nT found; must be re-flown.\")\n",
    "            print(\"\")\n",
    "            print(\"\")\n",
    "            print(\"\")\n",
    "            print(\"\")\n",
    "        else:\n",
    "            print(\"No aberrant variations from 600s moving average recorded.\")\n",
    "            print(\"\")\n",
    "            print(\"\")\n",
    "            print(\"\")\n",
    "            print(\"\")\n",
    "\n",
    "        aberrant = pd.DataFrame(columns=df_merged_slopes.columns)\n",
    "        cond = df_merged[\"Variation From 600s Moving Average\"] > 10\n",
    "        rows = df_merged.loc[cond, :]\n",
    "        aberrant = pd.concat([aberrant, rows], ignore_index=True)\n",
    "        cond = df_merged_slopes[\"Gradients\"] > 10\n",
    "        rows = df_merged.loc[cond, :]\n",
    "        aberrant = pd.concat([aberrant, rows], ignore_index=True)\n",
    "\n",
    "        if (df_merged_slopes[\"Gradients\"] > 10).any() is True | (df_merged[\"Variation From 600s Moving Average\"] > 10).any() is True:\n",
    "            plt.figure(figsize=(24,6))\n",
    "            plt.scatter(aberrant[\"Time\"], aberrant[\"Magnetic_Readings\"], 1, \"red\", label=\"aberrant\")\n",
    "            plt.scatter(df_merged[\"Time\"], df_merged[\"Magnetic_Readings\"], 1, \"black\", label=\"normal\")\n",
    "            plt.xlabel(\"Time (sec)\")\n",
    "            plt.ylabel(\"Magnetic Readings (nT)\")\n",
    "            plt.title(\"Magnetic Readings vs. Time\")\n",
    "            plt.show()\n",
    "        else:\n",
    "            plt.figure(figsize=(24,6))\n",
    "            plt.scatter(df_merged[\"Time\"], df_merged[\"Magnetic_Readings\"], 1, \"black\")\n",
    "            plt.xlabel(\"Time (sec)\")\n",
    "            plt.ylabel(\"Magnetic Readings (nT)\")\n",
    "            plt.title(\"Magnetic Readings vs. Time\")\n",
    "            plt.show()\n",
    "\n",
    "display(run_button, out)\n",
    "run_button.on_click(run)"
   ]
  },
  {
   "cell_type": "code",
   "execution_count": null,
   "metadata": {},
   "outputs": [],
   "source": []
  }
 ],
 "metadata": {
  "kernelspec": {
   "display_name": "Python 3",
   "language": "python",
   "name": "python3"
  },
  "language_info": {
   "codemirror_mode": {
    "name": "ipython",
    "version": 3
   },
   "file_extension": ".py",
   "mimetype": "text/x-python",
   "name": "python",
   "nbconvert_exporter": "python",
   "pygments_lexer": "ipython3",
   "version": "3.8.5"
  }
 },
 "nbformat": 4,
 "nbformat_minor": 4
}
